{
 "cells": [
  {
   "cell_type": "markdown",
   "metadata": {},
   "source": [
    "# Magic Commands and Tricks of Jupyter Notebook\n"
   ]
  },
  {
   "cell_type": "markdown",
   "metadata": {},
   "source": [
    "Command Description\n",
    "* **%quickref** Display the IPython Quick Reference Card\n",
    "* **%magic** Display detailed documentation for all of the available magic commands\n",
    "* **%debug** Enter the interactive debugger at the bottom of the last exception traceback\n",
    "* **%hist** Print command input (and optionally output) history\n",
    "* **%pdb** Automatically enter debugger after any exception\n",
    "* **%paste** Execute pre-formatted Python code from clipboard\n",
    "* **%cpaste** Open a special prompt for manually pasting Python code to be executed\n",
    "* **%reset** Delete all variables / names defined in interactive namespace\n",
    "* **%page** OBJECT Pretty print the object and display it through a pager\n",
    "* **%run** script.py Run a Python script inside IPython\n",
    "* **%prun** statement Execute statement with cProfile and report the profiler output\n",
    "* **%time** statement Report the execution time of single statement\n",
    "* **%timeit** statement Run a statement multiple times to compute an emsemble average execution time. Useful for timing code with very short execution time\n",
    "* **%who, %who_ls, %whos** Display variables defined in interactive namespace, with varying levels of information / verbosity\n",
    "* **%xdel** variable Delete a variable and attempt to clear any references to the object in the IPython internals\n"
   ]
  },
  {
   "cell_type": "markdown",
   "metadata": {},
   "source": [
    "#### Tricks\n",
    "\n",
    "* **np.unique(arr)** instead of sorted(set(arr))\n",
    "* **numpy.linalg** \n",
    "\n",
    "    * **diag** Return the diagonal (or off-diagonal) elements of a square matrix as a 1D array, or convert a 1D array into a square\n",
    "    * **matrix** with zeros on the off-diagonal\n",
    "    * **dot** Matrix multiplication\n",
    "    * **trace** Compute the sum of the diagonal elements\n",
    "    * **det** Compute the matrix determinant\n",
    "    * **eig** Compute the eigenvalues and eigenvectors of a square matrix\n",
    "    * **inv** Compute the inverse of a square matrix\n",
    "    * **pinv** Compute the Moore-Penrose pseudo-inverse inverse of a square matrix\n",
    "    * **qr** Compute the QR decomposition\n",
    "    * **svd** Compute the singular value decomposition (SVD)\n",
    "    * **solve** Solve the linear system Ax = b for x, where A is a square matrix\n",
    "    * **lstsq** Compute the least-squares solution to y = Xb"
   ]
  },
  {
   "cell_type": "code",
   "execution_count": null,
   "metadata": {},
   "outputs": [],
   "source": []
  }
 ],
 "metadata": {
  "kernelspec": {
   "display_name": "Python 3",
   "language": "python",
   "name": "python3"
  },
  "language_info": {
   "codemirror_mode": {
    "name": "ipython",
    "version": 3
   },
   "file_extension": ".py",
   "mimetype": "text/x-python",
   "name": "python",
   "nbconvert_exporter": "python",
   "pygments_lexer": "ipython3",
   "version": "3.7.3"
  }
 },
 "nbformat": 4,
 "nbformat_minor": 2
}
